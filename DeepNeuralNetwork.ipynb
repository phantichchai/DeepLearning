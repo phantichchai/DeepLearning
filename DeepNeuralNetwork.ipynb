{
 "cells": [
  {
   "cell_type": "code",
   "execution_count": 1,
   "id": "5c0d1475-c467-4151-82d4-2e33c63c5537",
   "metadata": {},
   "outputs": [],
   "source": [
    "from model import DeepNeuralNetwork\n",
    "import matplotlib.pyplot as plt\n",
    "import numpy as np"
   ]
  },
  {
   "cell_type": "code",
   "execution_count": 2,
   "id": "ee33f617-7c67-4018-94d4-64570941adcf",
   "metadata": {},
   "outputs": [],
   "source": [
    "learning_rate = 0.0075\n",
    "layer_dims = np.array([2, 1])\n",
    "num_iterations = 10000"
   ]
  },
  {
   "cell_type": "code",
   "execution_count": 3,
   "id": "c1ee2add-faa6-43a3-a5b5-1dc382ecf6ef",
   "metadata": {},
   "outputs": [],
   "source": [
    "X = np.array([[0, 0, 1, 1, 0, 0, 1, 1], [0, 1, 0, 1, 0, 1, 0, 1]])\n",
    "Y = np.array([[0, 0, 0, 1, 0, 0, 0, 1]])\n",
    "Xtest = np.array([[0, 0, 1, 1], [0, 1, 0, 1]])\n",
    "Ytest = np.array([[0, 0, 0, 1]])"
   ]
  },
  {
   "cell_type": "code",
   "execution_count": 4,
   "id": "c41a1dbf-f6fc-44b6-8a27-4a888dd26aff",
   "metadata": {},
   "outputs": [],
   "source": [
    "model = DeepNeuralNetwork(learning_rate, layer_dims, num_iterations)"
   ]
  },
  {
   "cell_type": "code",
   "execution_count": 5,
   "id": "f8bc5f91-50f5-4839-8fda-aa0e23e4c405",
   "metadata": {},
   "outputs": [
    {
     "name": "stdout",
     "output_type": "stream",
     "text": [
      "Cost after iteration 0: 0.6931860264848329\n",
      "Cost after iteration 100: 0.6544801973177892\n",
      "Cost after iteration 200: 0.6257049091312393\n",
      "Cost after iteration 300: 0.6027668483843831\n",
      "Cost after iteration 400: 0.583409479771272\n",
      "Cost after iteration 500: 0.5663753367013412\n",
      "Cost after iteration 600: 0.5509499223650078\n",
      "Cost after iteration 700: 0.5367165324575314\n",
      "Cost after iteration 800: 0.5234238417891085\n",
      "Cost after iteration 900: 0.5109136344776777\n",
      "Cost after iteration 1000: 0.499080907659614\n",
      "Cost after iteration 1100: 0.48785161809591454\n",
      "Cost after iteration 1200: 0.47717015889593517\n",
      "Cost after iteration 1300: 0.46699225577046055\n",
      "Cost after iteration 1400: 0.4572809044765231\n",
      "Cost after iteration 1500: 0.44800402369940606\n",
      "Cost after iteration 1600: 0.4391330788291036\n",
      "Cost after iteration 1700: 0.430642256500052\n",
      "Cost after iteration 1800: 0.42250795225813603\n",
      "Cost after iteration 1900: 0.4147084368946149\n",
      "Cost after iteration 2000: 0.40722362546318863\n",
      "Cost after iteration 2100: 0.4000349061484846\n",
      "Cost after iteration 2200: 0.39312500491781777\n",
      "Cost after iteration 2300: 0.386477872471223\n",
      "Cost after iteration 2400: 0.38007858594275823\n",
      "Cost after iteration 2500: 0.37391326111435763\n",
      "Cost after iteration 2600: 0.36796897273014384\n",
      "Cost after iteration 2700: 0.3622336814966323\n",
      "Cost after iteration 2800: 0.35669616689206557\n",
      "Cost after iteration 2900: 0.3513459651942038\n",
      "Cost after iteration 3000: 0.34617331228643955\n",
      "Cost after iteration 3100: 0.3411690908813538\n",
      "Cost after iteration 3200: 0.33632478184380676\n",
      "Cost after iteration 3300: 0.3316324193210646\n",
      "Cost after iteration 3400: 0.3270845494049919\n",
      "Cost after iteration 3500: 0.32267419206582154\n",
      "Cost after iteration 3600: 0.3183948061106343\n",
      "Cost after iteration 3700: 0.3142402569333067\n",
      "Cost after iteration 3800: 0.3102047868365303\n",
      "Cost after iteration 3900: 0.3062829877204879\n",
      "Cost after iteration 4000: 0.3024697759467008\n",
      "Cost after iteration 4100: 0.2987603691992365\n",
      "Cost after iteration 4200: 0.2951502651787239\n",
      "Cost after iteration 4300: 0.2916352219773265\n",
      "Cost after iteration 4400: 0.288211239994862\n",
      "Cost after iteration 4500: 0.2848745452676101\n",
      "Cost after iteration 4600: 0.2816215740919498\n",
      "Cost after iteration 4700: 0.2784489588348402\n",
      "Cost after iteration 4800: 0.27535351483229087\n",
      "Cost after iteration 4900: 0.272332228285407\n",
      "Cost after iteration 5000: 0.2693822450713517\n",
      "Cost after iteration 5100: 0.2665008603936906\n",
      "Cost after iteration 5200: 0.2636855092031132\n",
      "Cost after iteration 5300: 0.2609337573254948\n",
      "Cost after iteration 5400: 0.25824329323971734\n",
      "Cost after iteration 5500: 0.2556119204526497\n",
      "Cost after iteration 5600: 0.25303755042322557\n",
      "Cost after iteration 5700: 0.2505181959917008\n",
      "Cost after iteration 5800: 0.24805196527394502\n",
      "Cost after iteration 5900: 0.24563705598405247\n",
      "Cost after iteration 6000: 0.24327175015169777\n",
      "Cost after iteration 6100: 0.24095440920350233\n",
      "Cost after iteration 6200: 0.23868346938028212\n",
      "Cost after iteration 6300: 0.23645743746440548\n",
      "Cost after iteration 6400: 0.23427488679365177\n",
      "Cost after iteration 6500: 0.23213445353991774\n",
      "Cost after iteration 6600: 0.2300348332329153\n",
      "Cost after iteration 6700: 0.22797477751062947\n",
      "Cost after iteration 6800: 0.22595309107980086\n",
      "Cost after iteration 6900: 0.22396862887104915\n",
      "Cost after iteration 7000: 0.22202029337449886\n",
      "Cost after iteration 7100: 0.22010703214289734\n",
      "Cost after iteration 7200: 0.21822783545025232\n",
      "Cost after iteration 7300: 0.2163817340949618\n",
      "Cost after iteration 7400: 0.21456779733727382\n",
      "Cost after iteration 7500: 0.21278513096170323\n",
      "Cost after iteration 7600: 0.2110328754557626\n",
      "Cost after iteration 7700: 0.2093102042970248\n",
      "Cost after iteration 7800: 0.2076163223411414\n",
      "Cost after iteration 7900: 0.2059504643040056\n",
      "Cost after iteration 8000: 0.20431189333175412\n",
      "Cost after iteration 8100: 0.20269989965277613\n",
      "Cost after iteration 8200: 0.20111379930632844\n",
      "Cost after iteration 8300: 0.19955293294275314\n",
      "Cost after iteration 8400: 0.1980166646906589\n",
      "Cost after iteration 8500: 0.19650438108676221\n",
      "Cost after iteration 8600: 0.1950154900643976\n",
      "Cost after iteration 8700: 0.19354941999698513\n",
      "Cost after iteration 8800: 0.19210561879301133\n",
      "Cost after iteration 8900: 0.19068355303931955\n",
      "Cost after iteration 9000: 0.18928270718972962\n",
      "Cost after iteration 9100: 0.1879025827962123\n",
      "Cost after iteration 9200: 0.18654269778003676\n",
      "Cost after iteration 9300: 0.18520258574048404\n",
      "Cost after iteration 9400: 0.18388179529888127\n",
      "Cost after iteration 9500: 0.18257988947586573\n",
      "Cost after iteration 9600: 0.18129644509992526\n",
      "Cost after iteration 9700: 0.1800310522453883\n",
      "Cost after iteration 9800: 0.1787833136981651\n",
      "Cost after iteration 9900: 0.17755284444764063\n",
      "Cost after iteration 9999: 0.17635132449829227\n"
     ]
    }
   ],
   "source": [
    "model.fit(X, Y, True)"
   ]
  },
  {
   "cell_type": "code",
   "execution_count": 6,
   "id": "54679956-87ca-4b39-a84c-906a3e71249f",
   "metadata": {},
   "outputs": [
    {
     "name": "stdout",
     "output_type": "stream",
     "text": [
      "Accuracy: 100.0%\n"
     ]
    }
   ],
   "source": [
    "model.evaluate(Xtest, Ytest)"
   ]
  },
  {
   "cell_type": "code",
   "execution_count": 7,
   "id": "7d550ed2-53f1-429d-b5cc-60405b33c30f",
   "metadata": {},
   "outputs": [
    {
     "data": {
      "image/png": "[encoded data removed]",
      "text/plain": [
       "<Figure size 432x288 with 1 Axes>"
      ]
     },
     "metadata": {
      "needs_background": "light"
     },
     "output_type": "display_data"
    }
   ],
   "source": [
    "plt.plot(model.costs)\n",
    "plt.ylabel('cost')\n",
    "plt.xlabel('iterations (per hundreds)')\n",
    "plt.title(\"Learning rate =\" + str(learning_rate))\n",
    "plt.show()"
   ]
  },
  {
   "cell_type": "code",
   "execution_count": 8,
   "id": "72d74ae2-054b-4d40-b6de-6f8a4fd1b90e",
   "metadata": {},
   "outputs": [
    {
     "data": {
      "text/plain": [
       "array([2, 1])"
      ]
     },
     "execution_count": 8,
     "metadata": {},
     "output_type": "execute_result"
    }
   ],
   "source": [
    "layer_dims"
   ]
  },
  {
   "cell_type": "code",
   "execution_count": 9,
   "id": "2de5573f-a139-4449-ab35-a035f93dac45",
   "metadata": {},
   "outputs": [
    {
     "data": {
      "text/plain": [
       "{'W1': array([[2.59064131, 2.59138211]]), 'b1': array([[-4.12075715]])}"
      ]
     },
     "execution_count": 9,
     "metadata": {},
     "output_type": "execute_result"
    }
   ],
   "source": [
    "model.parameters"
   ]
  },
  {
   "cell_type": "code",
   "execution_count": 10,
   "id": "d5874792-526f-48d0-b6a7-d07d6d015c26",
   "metadata": {},
   "outputs": [
    {
     "name": "stdout",
     "output_type": "stream",
     "text": [
      "Predict y: [[0.74293246]]\n"
     ]
    }
   ],
   "source": [
    "model.predict(np.array([[1], [1]]))"
   ]
  },
  {
   "cell_type": "code",
   "execution_count": null,
   "id": "fe655a01-c5bb-4932-87cf-373265649e74",
   "metadata": {},
   "outputs": [],
   "source": []
  }
 ],
 "metadata": {
  "kernelspec": {
   "display_name": "Python 3 (ipykernel)",
   "language": "python",
   "name": "python3"
  },
  "language_info": {
   "codemirror_mode": {
    "name": "ipython",
    "version": 3
   },
   "file_extension": ".py",
   "mimetype": "text/x-python",
   "name": "python",
   "nbconvert_exporter": "python",
   "pygments_lexer": "ipython3",
   "version": "3.9.6"
  }
 },
 "nbformat": 4,
 "nbformat_minor": 5
}
